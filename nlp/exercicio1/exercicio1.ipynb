{
 "cells": [
  {
   "cell_type": "markdown",
   "metadata": {},
   "source": [
    "# Passo 1"
   ]
  },
  {
   "cell_type": "markdown",
   "metadata": {},
   "source": [
    "## Importações necessárias"
   ]
  },
  {
   "cell_type": "code",
   "execution_count": 63,
   "metadata": {},
   "outputs": [],
   "source": [
    "import pandas as pd\n",
    "import numpy as np\n",
    "from collections import Counter\n",
    "import matplotlib.pyplot as plt\n",
    "import seaborn as sns\n",
    "import random"
   ]
  },
  {
   "cell_type": "markdown",
   "metadata": {},
   "source": [
    "## Definição de funções\n",
    "\n",
    "### Função de leitura"
   ]
  },
  {
   "cell_type": "code",
   "execution_count": 64,
   "metadata": {},
   "outputs": [],
   "source": [
    "def load_spam_collection(data_path, seed=123):\n",
    "    spamfilter_df = pd.read_csv(data_path, delimiter='\\t', header=None)\n",
    "    spamfilter_df.columns = ['label', 'message']\n",
    "    \n",
    "    ''' \n",
    "        All labels were changed to the following classification: \n",
    "        spam is converted to 1 and ham to 0.\n",
    "    '''\n",
    "    spamfilter_df['label'] = spamfilter_df['label'].apply(\n",
    "        lambda x: 1 if(x == 'spam')\n",
    "        else 0\n",
    "    )\n",
    "\n",
    "    '''\n",
    "    Adding an additional column that represents the number of letters \n",
    "    per message, thus creating a table that provides the sample size information.\n",
    "    '''\n",
    "    spamfilter_df['sample_length'] = spamfilter_df['message'].apply(lambda x: len(x))\n",
    "\n",
    "    return spamfilter_df"
   ]
  },
  {
   "cell_type": "markdown",
   "metadata": {},
   "source": [
    "### Funções de análise de dados"
   ]
  },
  {
   "cell_type": "code",
   "execution_count": 65,
   "metadata": {},
   "outputs": [],
   "source": [
    "def get_num_documents(spamfilter_df):\n",
    "    return spamfilter_df.count()['label']\n",
    "\n",
    "\n",
    "def get_num_words_per_document(spamfilter_df):\n",
    "    sample_message = spamfilter_df['message'].tolist()\n",
    "    num_words = [len(s.split()) for s in sample_message]\n",
    "    return np.median(num_words)\n",
    "\n",
    "\n",
    "def get_num_classes(spamfilter_df):\n",
    "    return spamfilter_df.nunique()['label']\n",
    "\n",
    "\n",
    "def plot_sample_length_distribuition(spamfilter_df):\n",
    "    sns.histplot(\n",
    "        spamfilter_df['sample_length'],\n",
    "        kde=True,\n",
    "        bins=50,\n",
    "        color='blue'\n",
    "    )\n",
    "\n",
    "\n",
    "def plot_class_distribuition(spamfilter_df):\n",
    "    labels = spamfilter_df['label'].value_counts()\n",
    "    lp = labels.plot(kind='barh', color=['#66c2a5', '#fc8d62'])\n",
    "    lp.set_yticks([0, 1])\n",
    "    lp.set_yticklabels(['Ham', 'Spam'])"
   ]
  },
  {
   "cell_type": "markdown",
   "metadata": {},
   "source": [
    "## Aplicando a análise"
   ]
  },
  {
   "cell_type": "code",
   "execution_count": 150,
   "metadata": {},
   "outputs": [],
   "source": [
    "data_path = \"data/SMSSpamCollection\"  # You may need to change the directory on your machine for it to work.\n",
    "spam_df = load_spam_collection(data_path)\n",
    "\n",
    "spam_df.head()"
   ]
  },
  {
   "cell_type": "code",
   "execution_count": 151,
   "metadata": {},
   "outputs": [],
   "source": [
    "num_doc = get_num_documents(spam_df)\n",
    "print(f\"Número total de documentos: {num_doc}\")"
   ]
  },
  {
   "cell_type": "code",
   "execution_count": 152,
   "metadata": {},
   "outputs": [],
   "source": [
    "num_word_per_document = get_num_words_per_document(spam_df)\n",
    "print(f\"Número médio de palavras por documento: {num_word_per_document}\")"
   ]
  },
  {
   "cell_type": "code",
   "execution_count": 153,
   "metadata": {},
   "outputs": [],
   "source": [
    "num_classes = get_num_classes(spam_df)\n",
    "print(f\"Número de classes: {num_classes}\")"
   ]
  },
  {
   "cell_type": "code",
   "execution_count": 25,
   "metadata": {},
   "outputs": [],
   "source": [
    "plot_sample_length_distribuition(spam_df)"
   ]
  },
  {
   "cell_type": "code",
   "execution_count": 154,
   "metadata": {},
   "outputs": [],
   "source": [
    "plot_class_distribuition(spam_df)"
   ]
  },
  {
   "cell_type": "markdown",
   "metadata": {},
   "source": [
    "# Passo 2"
   ]
  },
  {
   "cell_type": "markdown",
   "metadata": {},
   "source": [
    "## Importações necessárias"
   ]
  },
  {
   "cell_type": "code",
   "execution_count": 140,
   "metadata": {},
   "outputs": [],
   "source": [
    "import spacy\n",
    "import nltk\n",
    "from nltk.stem import WordNetLemmatizer # utilizado para fazer lematização do texto\n",
    "from spacy.lang.en.stop_words import STOP_WORDS\n",
    "import string\n",
    "import re # biblioteca para utilizar expressão regulares\n",
    "from wordcloud import WordCloud # biblioteca para criar uma núvem de palavras\n",
    "import contractions # usado para expandir as possíveis contrações do texto"
   ]
  },
  {
   "cell_type": "markdown",
   "metadata": {},
   "source": [
    "## Preprando dados para pré-processamento"
   ]
  },
  {
   "cell_type": "code",
   "execution_count": 138,
   "metadata": {},
   "outputs": [],
   "source": [
    "nlp = spacy.load(\"en_core_web_sm\")\n",
    "stop_words = STOP_WORDS\n",
    "# stop_words"
   ]
  },
  {
   "cell_type": "code",
   "execution_count": 139,
   "metadata": {},
   "outputs": [],
   "source": [
    "punctuation = string.punctuation\n",
    "# punctuation"
   ]
  },
  {
   "cell_type": "code",
   "execution_count": 155,
   "metadata": {},
   "outputs": [],
   "source": [
    "nltk.download('wordnet') # download para fazer a lematização do texto usando WordNetLematizer"
   ]
  },
  {
   "cell_type": "markdown",
   "metadata": {},
   "source": [
    "## Função que pré-processa os dados"
   ]
  },
  {
   "cell_type": "code",
   "execution_count": 141,
   "metadata": {},
   "outputs": [],
   "source": [
    "def contraction_text(texts):\n",
    "    ''' \n",
    "        This function is used to expand the possible hiring of some words in the text\n",
    "    '''\n",
    "    \n",
    "    expanded_text = []\n",
    "    for word in texts.split():\n",
    "        expanded_text.append(contractions.fix(word))\n",
    "\n",
    "    texts = ' '.join(expanded_text)\n",
    "    \n",
    "    return texts"
   ]
  },
  {
   "cell_type": "code",
   "execution_count": 142,
   "metadata": {},
   "outputs": [],
   "source": [
    "def lemmatizer_text(texts):\n",
    "    ''' \n",
    "    function responsible for lemmatizing the text\n",
    "    '''\n",
    "    \n",
    "    lemmatizer = WordNetLemmatizer()\n",
    "    \n",
    "    word_token = texts.split()\n",
    "    lemmas = [lemmatizer.lemmatize(word, pos='v') for word in word_token]\n",
    "\n",
    "    texts = ' '.join(lemmas)\n",
    "\n",
    "    return texts"
   ]
  },
  {
   "cell_type": "code",
   "execution_count": 77,
   "metadata": {},
   "outputs": [],
   "source": [
    "def processing(texts):\n",
    "    texts = contraction_text(texts)\n",
    "    texts = lemmatizer_text(texts)\n",
    "    \n",
    "    result = []\n",
    "    pos_tag = ['ADJ', 'NOUN', 'VERB', 'PROPN'] # vetor que permite escolher somente entre adjetivos, substantivos, verbos e pronomes\n",
    "    text = re.sub(r'(https?://[^\\s\\n\\r]+|www\\.[^\\s\\n\\r]+|[0-9@#&!?:,.\\)\\(;])', '', texts) # expressão regular que retira do texto todos os números, simbolos (&#;) e URL\n",
    "    doc = nlp(text.lower())\n",
    "\n",
    "    for token in doc:\n",
    "        if(token.text in stop_words or token.text in punctuation or len(token.text) <= 3 or token.text == \"ltgt\"):\n",
    "            continue\n",
    "        \n",
    "        if(token.pos_ in pos_tag):\n",
    "            result.append(token.text)\n",
    "        \n",
    "        text = ' '.join(str(element) for element in result if not element.isdigit())\n",
    "    \n",
    "    return text"
   ]
  },
  {
   "cell_type": "markdown",
   "metadata": {},
   "source": [
    "## Aplicando o pré-processamento"
   ]
  },
  {
   "cell_type": "code",
   "execution_count": 156,
   "metadata": {},
   "outputs": [],
   "source": [
    "spam_df.message = spam_df.message.astype(str)\n",
    "spam_df['processed_message'] = spam_df['message'].apply(processing)\n",
    "\n",
    "spam_df.head()"
   ]
  },
  {
   "cell_type": "markdown",
   "metadata": {},
   "source": [
    "## Vizualização do resultado final"
   ]
  },
  {
   "cell_type": "code",
   "execution_count": 157,
   "metadata": {
    "scrolled": true
   },
   "outputs": [],
   "source": [
    "total_message = spam_df['processed_message'].values\n",
    "result_total_message = ''\n",
    "\n",
    "for word in total_message:\n",
    "    result_total_message += word + \" \"\n",
    "\n",
    "# result_total_message"
   ]
  },
  {
   "cell_type": "code",
   "execution_count": 158,
   "metadata": {
    "scrolled": true
   },
   "outputs": [
    {
     "data": {
      "text/plain": [
       "'\\nVizualizando o resultado final do pré-processamento\\ncom núvem de palavras\\n'"
      ]
     },
     "execution_count": 158,
     "metadata": {},
     "output_type": "execute_result"
    }
   ],
   "source": [
    "'''\n",
    "Vizualizando o resultado final do pré-processamento\n",
    "com núvem de palavras\n",
    "'''\n",
    "plt.figure(figsize=(15, 15))\n",
    "plt.axis('off')\n",
    "plt.imshow(WordCloud().generate(result_total_message))"
   ]
  },
  {
   "cell_type": "markdown",
   "metadata": {},
   "source": [
    "# Passo 3"
   ]
  },
  {
   "cell_type": "markdown",
   "metadata": {},
   "source": [
    "## Importações necessárias"
   ]
  },
  {
   "cell_type": "code",
   "execution_count": 147,
   "metadata": {},
   "outputs": [],
   "source": [
    "from sklearn.model_selection import train_test_split\n",
    "from sklearn.feature_extraction.text import TfidfVectorizer"
   ]
  },
  {
   "cell_type": "markdown",
   "metadata": {},
   "source": [
    "## Dados separados para treino e testes"
   ]
  },
  {
   "cell_type": "code",
   "execution_count": 149,
   "metadata": {},
   "outputs": [],
   "source": [
    "'''\n",
    "80% para treino e 20% para teste. Mantendo a proporção de emails spam e ham.\n",
    "Utilizando para isso o parâmetro stratify.\n",
    "'''\n",
    "\n",
    "X_train, X_test, y_train, y_test = train_test_split(\n",
    "    spam_df['processed_message'],\n",
    "    spam_df['label'],\n",
    "    test_size=0.2,\n",
    "    stratify=spam_df['label'],\n",
    "    random_state=42\n",
    ")\n",
    "\n",
    "X_train = X_train.tolist()\n",
    "X_test = X_test.tolist()"
   ]
  },
  {
   "cell_type": "markdown",
   "metadata": {},
   "source": [
    "## Função de vetorização que utiliza TF-IDF"
   ]
  },
  {
   "cell_type": "code",
   "execution_count": 130,
   "metadata": {},
   "outputs": [],
   "source": [
    "def tfid_vectorize(X_train, X_test):\n",
    "    vectorizer = TfidfVectorizer()\n",
    "\n",
    "    x_train = vectorizer.fit_transform(X_train)\n",
    "    x_test = vectorizer.transform(X_test)\n",
    "\n",
    "    return x_train, x_test"
   ]
  },
  {
   "cell_type": "code",
   "execution_count": 146,
   "metadata": {},
   "outputs": [],
   "source": [
    "vecX_train, X_test = tfid_vectorize(X_train, X_test)"
   ]
  }
 ],
 "metadata": {
  "kernelspec": {
   "display_name": "venv",
   "language": "python",
   "name": "python3"
  },
  "language_info": {
   "codemirror_mode": {
    "name": "ipython",
    "version": 3
   },
   "file_extension": ".py",
   "mimetype": "text/x-python",
   "name": "python",
   "nbconvert_exporter": "python",
   "pygments_lexer": "ipython3",
   "version": "3.12.6"
  }
 },
 "nbformat": 4,
 "nbformat_minor": 4
}
