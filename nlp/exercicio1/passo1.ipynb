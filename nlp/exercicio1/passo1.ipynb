{
 "cells": [
  {
   "cell_type": "markdown",
   "metadata": {},
   "source": [
    "## Importações necessárias"
   ]
  },
  {
   "cell_type": "code",
   "execution_count": 57,
   "metadata": {},
   "outputs": [],
   "source": [
    "import pandas as pd\n",
    "import numpy as np\n",
    "from collections import Counter\n",
    "import matplotlib.pyplot as plt\n",
    "import seaborn as sns\n",
    "import random"
   ]
  },
  {
   "cell_type": "markdown",
   "metadata": {},
   "source": [
    "## Definição de funções\n",
    "\n",
    "### Função de leitura"
   ]
  },
  {
   "cell_type": "code",
   "execution_count": 101,
   "metadata": {},
   "outputs": [],
   "source": [
    "def load_spam_collection(data_path, seed=123):\n",
    "    spamfilter_df = pd.read_csv(data_path, delimiter='\\t', header=None)\n",
    "    spamfilter_df.columns = ['label', 'message']\n",
    "    \n",
    "    ''' \n",
    "        All labels were changed to the following classification: \n",
    "        spam is converted to 1 and ham to 0.\n",
    "    '''\n",
    "    spamfilter_df['label'] = spamfilter_df['label'].apply(\n",
    "        lambda x: 1 if(x == 'spam')\n",
    "        else 0\n",
    "    )\n",
    "\n",
    "    '''\n",
    "    Adding an additional column that represents the number of letters \n",
    "    per message, thus creating a table that provides the sample size information.\n",
    "    '''\n",
    "    spamfilter_df['sample_length'] = spamfilter_df['message'].apply(lambda x: len(x))\n",
    "\n",
    "    return spamfilter_df"
   ]
  },
  {
   "cell_type": "markdown",
   "metadata": {},
   "source": [
    "### Funções de análise de dados"
   ]
  },
  {
   "cell_type": "code",
   "execution_count": 102,
   "metadata": {},
   "outputs": [],
   "source": [
    "def get_num_documents(spamfilter_df):\n",
    "    return spamfilter_df.count()['label']\n",
    "\n",
    "\n",
    "def get_num_words_per_document(spamfilter_df):\n",
    "    sample_message = spamfilter_df['message'].tolist()\n",
    "    num_words = [len(s.split()) for s in sample_message]\n",
    "    return np.median(num_words)\n",
    "\n",
    "\n",
    "def get_num_classes(spamfilter_df):\n",
    "    return spamfilter_df.nunique()['label']\n",
    "\n",
    "\n",
    "def plot_sample_length_distribuition(spamfilter_df):\n",
    "    sns.histplot(\n",
    "        spamfilter_df['sample_length'],\n",
    "        kde=True,\n",
    "        bins=50,\n",
    "        color='blue'\n",
    "    )\n",
    "\n",
    "\n",
    "def plot_class_distribuition(spamfilter_df):\n",
    "    labels = spamfilter_df['label'].value_counts()\n",
    "    lp = labels.plot(kind='barh', color=['#66c2a5', '#fc8d62'])\n",
    "    lp.set_yticks([0, 1])\n",
    "    lp.set_yticklabels(['Ham', 'Spam'])"
   ]
  },
  {
   "cell_type": "markdown",
   "metadata": {},
   "source": [
    "## Aplicando a análise"
   ]
  },
  {
   "cell_type": "code",
   "execution_count": 109,
   "metadata": {},
   "outputs": [
    {
     "data": {
      "text/html": [
       "<div>\n",
       "<style scoped>\n",
       "    .dataframe tbody tr th:only-of-type {\n",
       "        vertical-align: middle;\n",
       "    }\n",
       "\n",
       "    .dataframe tbody tr th {\n",
       "        vertical-align: top;\n",
       "    }\n",
       "\n",
       "    .dataframe thead th {\n",
       "        text-align: right;\n",
       "    }\n",
       "</style>\n",
       "<table border=\"1\" class=\"dataframe\">\n",
       "  <thead>\n",
       "    <tr style=\"text-align: right;\">\n",
       "      <th></th>\n",
       "      <th>label</th>\n",
       "      <th>message</th>\n",
       "      <th>sample_length</th>\n",
       "    </tr>\n",
       "  </thead>\n",
       "  <tbody>\n",
       "    <tr>\n",
       "      <th>0</th>\n",
       "      <td>0</td>\n",
       "      <td>Go until jurong point, crazy.. Available only ...</td>\n",
       "      <td>111</td>\n",
       "    </tr>\n",
       "    <tr>\n",
       "      <th>1</th>\n",
       "      <td>0</td>\n",
       "      <td>Ok lar... Joking wif u oni...</td>\n",
       "      <td>29</td>\n",
       "    </tr>\n",
       "    <tr>\n",
       "      <th>2</th>\n",
       "      <td>1</td>\n",
       "      <td>Free entry in 2 a wkly comp to win FA Cup fina...</td>\n",
       "      <td>155</td>\n",
       "    </tr>\n",
       "    <tr>\n",
       "      <th>3</th>\n",
       "      <td>0</td>\n",
       "      <td>U dun say so early hor... U c already then say...</td>\n",
       "      <td>49</td>\n",
       "    </tr>\n",
       "    <tr>\n",
       "      <th>4</th>\n",
       "      <td>0</td>\n",
       "      <td>Nah I don't think he goes to usf, he lives aro...</td>\n",
       "      <td>61</td>\n",
       "    </tr>\n",
       "  </tbody>\n",
       "</table>\n",
       "</div>"
      ],
      "text/plain": [
       "   label                                            message  sample_length\n",
       "0      0  Go until jurong point, crazy.. Available only ...            111\n",
       "1      0                      Ok lar... Joking wif u oni...             29\n",
       "2      1  Free entry in 2 a wkly comp to win FA Cup fina...            155\n",
       "3      0  U dun say so early hor... U c already then say...             49\n",
       "4      0  Nah I don't think he goes to usf, he lives aro...             61"
      ]
     },
     "execution_count": 109,
     "metadata": {},
     "output_type": "execute_result"
    }
   ],
   "source": [
    "data_path = \"data/SMSSpamCollection\"  # You may need to change the directory on your machine for it to work.\n",
    "spam_df = load_spam_collection(data_path)\n",
    "\n",
    "spam_df.head()"
   ]
  },
  {
   "cell_type": "code",
   "execution_count": 110,
   "metadata": {},
   "outputs": [
    {
     "name": "stdout",
     "output_type": "stream",
     "text": [
      "Numero total de documentos: 5572\n"
     ]
    }
   ],
   "source": [
    "num_doc = get_num_documents(spam_df)\n",
    "print(f\"Número total de documentos: {num_doc}\")"
   ]
  },
  {
   "cell_type": "code",
   "execution_count": 111,
   "metadata": {},
   "outputs": [
    {
     "name": "stdout",
     "output_type": "stream",
     "text": [
      "Numero médio de palavras por documento: 12.0\n"
     ]
    }
   ],
   "source": [
    "num_word_per_document = get_num_words_per_document(spam_df)\n",
    "print(f\"Número médio de palavras por documento: {num_word_per_document}\")"
   ]
  },
  {
   "cell_type": "code",
   "execution_count": 113,
   "metadata": {},
   "outputs": [
    {
     "name": "stdout",
     "output_type": "stream",
     "text": [
      "Número de classes: 2\n"
     ]
    }
   ],
   "source": [
    "num_classes = get_num_classes(spam_df)\n",
    "print(f\"Número de classes: {num_classes}\")"
   ]
  },
  {
   "cell_type": "code",
   "execution_count": 114,
   "metadata": {},
   "outputs": [
    {
     "data": {
      "image/png": "[encoded data removed]",
      "text/plain": [
       "<Figure size 640x480 with 1 Axes>"
      ]
     },
     "metadata": {},
     "output_type": "display_data"
    }
   ],
   "source": [
    "plot_sample_length_distribuition(spam_df)"
   ]
  },
  {
   "cell_type": "code",
   "execution_count": 115,
   "metadata": {},
   "outputs": [
    {
     "data": {
      "image/png": "[encoded data removed]",
      "text/plain": [
       "<Figure size 640x480 with 1 Axes>"
      ]
     },
     "metadata": {},
     "output_type": "display_data"
    }
   ],
   "source": [
    "plot_class_distribuition(spam_df)"
   ]
  }
 ],
 "metadata": {
  "kernelspec": {
   "display_name": "venv",
   "language": "python",
   "name": "python3"
  },
  "language_info": {
   "codemirror_mode": {
    "name": "ipython",
    "version": 3
   },
   "file_extension": ".py",
   "mimetype": "text/x-python",
   "name": "python",
   "nbconvert_exporter": "python",
   "pygments_lexer": "ipython3",
   "version": "3.9.6"
  }
 },
 "nbformat": 4,
 "nbformat_minor": 2
}
