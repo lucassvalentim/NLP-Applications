{
 "cells": [
  {
   "cell_type": "markdown",
   "metadata": {},
   "source": [
    "## Impotações necessárias"
   ]
  },
  {
   "cell_type": "code",
   "execution_count": 57,
   "metadata": {},
   "outputs": [],
   "source": [
    "import pandas as pd\n",
    "import numpy as np\n",
    "from collections import Counter\n",
    "import matplotlib.pyplot as plt\n",
    "import seaborn as sns\n",
    "import random"
   ]
  },
  {
   "cell_type": "markdown",
   "metadata": {},
   "source": [
    "## Definição de funções\n",
    "\n",
    "### Função de leitura"
   ]
  },
  {
   "cell_type": "code",
   "execution_count": 101,
   "metadata": {},
   "outputs": [],
   "source": [
    "def load_spam_collection(data_path, seed=123):\n",
    "    spamfilter_df = pd.read_csv(data_path, delimiter='\\t', header=None)\n",
    "    spamfilter_df.columns = ['label', 'message']\n",
    "    \n",
    "    ''' \n",
    "        All labels were changed to the following classification: \n",
    "        spam is converted to 1 and ham to 0.\n",
    "    '''\n",
    "    spamfilter_df['label'] = spamfilter_df['label'].apply(\n",
    "        lambda x: 1 if(x == 'spam')\n",
    "        else 0\n",
    "    )\n",
    "\n",
    "    '''\n",
    "    Adding an additional column that represents the number of letters \n",
    "    per message, thus creating a table that provides the sample size information.\n",
    "    '''\n",
    "    spamfilter_df['sample_length'] = spamfilter_df['message'].apply(lambda x: len(x))\n",
    "\n",
    "    return spamfilter_df"
   ]
  },
  {
   "cell_type": "markdown",
   "metadata": {},
   "source": [
    "### Funções de análises de dados"
   ]
  },
  {
   "cell_type": "code",
   "execution_count": 102,
   "metadata": {},
   "outputs": [],
   "source": [
    "def get_num_documents(spamfilter_df):\n",
    "    return spamfilter_df.count()['label']\n",
    "\n",
    "\n",
    "def get_num_words_per_document(spamfilter_df):\n",
    "    sample_message = spamfilter_df['message'].tolist()\n",
    "    num_words = [len(s.split()) for s in sample_message]\n",
    "    return np.median(num_words)\n",
    "\n",
    "\n",
    "def get_num_classes(spamfilter_df):\n",
    "    return spamfilter_df.nunique()['label']\n",
    "\n",
    "\n",
    "def plot_sample_length_distribuition(spamfilter_df):\n",
    "    sns.histplot(\n",
    "        spamfilter_df['sample_length'],\n",
    "        kde=True,\n",
    "        bins=50,\n",
    "        color='blue'\n",
    "    )\n",
    "\n",
    "\n",
    "def plot_class_distribuition(spamfilter_df):\n",
    "    labels = spamfilter_df['label'].value_counts()\n",
    "    lp = labels.plot(kind='barh', color=['#66c2a5', '#fc8d62'])\n",
    "    lp.set_yticks([0, 1])\n",
    "    lp.set_yticklabels(['Ham', 'Spam'])"
   ]
  },
  {
   "cell_type": "markdown",
   "metadata": {},
   "source": [
    "## Aplicando a análise"
   ]
  },
  {
   "cell_type": "code",
   "execution_count": null,
   "metadata": {},
   "outputs": [],
   "source": [
    "data_path = \"data/SMSSpamCollection\"  # You may need to change the directory on your machine for it to work.\n",
    "spam_df = load_spam_collection(data_path)\n",
    "\n",
    "spam_df.head()"
   ]
  },
  {
   "cell_type": "code",
   "execution_count": null,
   "metadata": {},
   "outputs": [],
   "source": [
    "num_doc = get_num_documents(spam_df)\n",
    "print(f\"Numero total de documentos: {num_doc}\")"
   ]
  },
  {
   "cell_type": "code",
   "execution_count": null,
   "metadata": {},
   "outputs": [],
   "source": [
    "num_word_per_document = get_num_words_per_document(spam_df)\n",
    "print(f\"Numero médio de palavras por documento: {num_word_per_document}\")"
   ]
  },
  {
   "cell_type": "code",
   "execution_count": null,
   "metadata": {},
   "outputs": [],
   "source": [
    "num_classes = get_num_classes(spam_df)\n",
    "print(f\"Numero de classes: {num_classes}\")"
   ]
  },
  {
   "cell_type": "code",
   "execution_count": null,
   "metadata": {},
   "outputs": [],
   "source": [
    "plot_sample_length_distribuition(spam_df)"
   ]
  },
  {
   "cell_type": "code",
   "execution_count": null,
   "metadata": {},
   "outputs": [],
   "source": [
    "plot_class_distribuition(spam_df)"
   ]
  }
 ],
 "metadata": {
  "kernelspec": {
   "display_name": "venv",
   "language": "python",
   "name": "python3"
  },
  "language_info": {
   "codemirror_mode": {
    "name": "ipython",
    "version": 3
   },
   "file_extension": ".py",
   "mimetype": "text/x-python",
   "name": "python",
   "nbconvert_exporter": "python",
   "pygments_lexer": "ipython3",
   "version": "3.9.6"
  }
 },
 "nbformat": 4,
 "nbformat_minor": 2
}
